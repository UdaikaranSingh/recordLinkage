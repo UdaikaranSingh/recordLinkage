{
 "cells": [
  {
   "cell_type": "code",
   "execution_count": 7,
   "metadata": {},
   "outputs": [],
   "source": [
    "import pandas as pd\n",
    "import numpy as np\n",
    "import os\n",
    "from sklearn.feature_extraction.text import CountVectorizer, TfidfVectorizer\n",
    "import re"
   ]
  },
  {
   "cell_type": "code",
   "execution_count": 9,
   "metadata": {},
   "outputs": [],
   "source": [
    "base_path = '/Users/udaisingh/Downloads/kdd-cup-2013-author-disambiguation/dataRev2/'"
   ]
  },
  {
   "cell_type": "code",
   "execution_count": 11,
   "metadata": {},
   "outputs": [],
   "source": [
    "paths = [os.path.join(base_path, x) for x in os.listdir(base_path)]"
   ]
  },
  {
   "cell_type": "code",
   "execution_count": 16,
   "metadata": {},
   "outputs": [],
   "source": [
    "data = [pd.read_csv(x, nrows = 5) for x in paths]"
   ]
  },
  {
   "cell_type": "code",
   "execution_count": 18,
   "metadata": {},
   "outputs": [
    {
     "name": "stdout",
     "output_type": "stream",
     "text": [
      "/Users/udaisingh/Downloads/kdd-cup-2013-author-disambiguation/dataRev2/Valid.csv\n",
      "/Users/udaisingh/Downloads/kdd-cup-2013-author-disambiguation/dataRev2/PaperAuthor.csv\n",
      "/Users/udaisingh/Downloads/kdd-cup-2013-author-disambiguation/dataRev2/Author.csv\n",
      "/Users/udaisingh/Downloads/kdd-cup-2013-author-disambiguation/dataRev2/Journal.csv\n",
      "/Users/udaisingh/Downloads/kdd-cup-2013-author-disambiguation/dataRev2/Conference.csv\n",
      "/Users/udaisingh/Downloads/kdd-cup-2013-author-disambiguation/dataRev2/Train.csv\n",
      "/Users/udaisingh/Downloads/kdd-cup-2013-author-disambiguation/dataRev2/Paper.csv\n"
     ]
    }
   ],
   "source": [
    "for i in paths:\n",
    "    print(i)"
   ]
  },
  {
   "cell_type": "code",
   "execution_count": 15,
   "metadata": {},
   "outputs": [
    {
     "data": {
      "text/html": [
       "<div>\n",
       "<style scoped>\n",
       "    .dataframe tbody tr th:only-of-type {\n",
       "        vertical-align: middle;\n",
       "    }\n",
       "\n",
       "    .dataframe tbody tr th {\n",
       "        vertical-align: top;\n",
       "    }\n",
       "\n",
       "    .dataframe thead th {\n",
       "        text-align: right;\n",
       "    }\n",
       "</style>\n",
       "<table border=\"1\" class=\"dataframe\">\n",
       "  <thead>\n",
       "    <tr style=\"text-align: right;\">\n",
       "      <th></th>\n",
       "      <th>AuthorId</th>\n",
       "      <th>PaperIds</th>\n",
       "    </tr>\n",
       "  </thead>\n",
       "  <tbody>\n",
       "    <tr>\n",
       "      <td>0</td>\n",
       "      <td>55</td>\n",
       "      <td>2507 15471 19294 20444 24074 25103 25304 36459...</td>\n",
       "    </tr>\n",
       "    <tr>\n",
       "      <td>1</td>\n",
       "      <td>426</td>\n",
       "      <td>873 37257 92584 174625 212235 284639 581263 60...</td>\n",
       "    </tr>\n",
       "    <tr>\n",
       "      <td>2</td>\n",
       "      <td>1861</td>\n",
       "      <td>59550 124595 282043 528639 922192 1048827 1059...</td>\n",
       "    </tr>\n",
       "    <tr>\n",
       "      <td>3</td>\n",
       "      <td>10212</td>\n",
       "      <td>24013 49767 131299 173546 195044 199989 213826...</td>\n",
       "    </tr>\n",
       "    <tr>\n",
       "      <td>4</td>\n",
       "      <td>10275</td>\n",
       "      <td>300441 358576 368138 389312 871240 876311 9952...</td>\n",
       "    </tr>\n",
       "  </tbody>\n",
       "</table>\n",
       "</div>"
      ],
      "text/plain": [
       "   AuthorId                                           PaperIds\n",
       "0        55  2507 15471 19294 20444 24074 25103 25304 36459...\n",
       "1       426  873 37257 92584 174625 212235 284639 581263 60...\n",
       "2      1861  59550 124595 282043 528639 922192 1048827 1059...\n",
       "3     10212  24013 49767 131299 173546 195044 199989 213826...\n",
       "4     10275  300441 358576 368138 389312 871240 876311 9952..."
      ]
     },
     "metadata": {},
     "output_type": "display_data"
    },
    {
     "data": {
      "text/html": [
       "<div>\n",
       "<style scoped>\n",
       "    .dataframe tbody tr th:only-of-type {\n",
       "        vertical-align: middle;\n",
       "    }\n",
       "\n",
       "    .dataframe tbody tr th {\n",
       "        vertical-align: top;\n",
       "    }\n",
       "\n",
       "    .dataframe thead th {\n",
       "        text-align: right;\n",
       "    }\n",
       "</style>\n",
       "<table border=\"1\" class=\"dataframe\">\n",
       "  <thead>\n",
       "    <tr style=\"text-align: right;\">\n",
       "      <th></th>\n",
       "      <th>PaperId</th>\n",
       "      <th>AuthorId</th>\n",
       "      <th>Name</th>\n",
       "      <th>Affiliation</th>\n",
       "    </tr>\n",
       "  </thead>\n",
       "  <tbody>\n",
       "    <tr>\n",
       "      <td>0</td>\n",
       "      <td>1</td>\n",
       "      <td>521630</td>\n",
       "      <td>Ayman Kaheel</td>\n",
       "      <td>Cairo Microsoft Innovation Lab</td>\n",
       "    </tr>\n",
       "    <tr>\n",
       "      <td>1</td>\n",
       "      <td>1</td>\n",
       "      <td>972575</td>\n",
       "      <td>Mahmoud Refaat</td>\n",
       "      <td>Cairo Microsoft Innovation Lab</td>\n",
       "    </tr>\n",
       "    <tr>\n",
       "      <td>2</td>\n",
       "      <td>1</td>\n",
       "      <td>1528710</td>\n",
       "      <td>Ahmed Abdul-hamid</td>\n",
       "      <td>Cairo Microsoft Innovation Lab</td>\n",
       "    </tr>\n",
       "    <tr>\n",
       "      <td>3</td>\n",
       "      <td>1</td>\n",
       "      <td>1611750</td>\n",
       "      <td>Motaz Ahmad El-saban</td>\n",
       "      <td>Cairo Microsoft Innovation Lab</td>\n",
       "    </tr>\n",
       "    <tr>\n",
       "      <td>4</td>\n",
       "      <td>2</td>\n",
       "      <td>1682088</td>\n",
       "      <td>Julio D. Rossi</td>\n",
       "      <td>Departamento Matemática, FCEyN UBA (1428) Buen...</td>\n",
       "    </tr>\n",
       "  </tbody>\n",
       "</table>\n",
       "</div>"
      ],
      "text/plain": [
       "   PaperId  AuthorId                  Name  \\\n",
       "0        1    521630          Ayman Kaheel   \n",
       "1        1    972575        Mahmoud Refaat   \n",
       "2        1   1528710     Ahmed Abdul-hamid   \n",
       "3        1   1611750  Motaz Ahmad El-saban   \n",
       "4        2   1682088        Julio D. Rossi   \n",
       "\n",
       "                                         Affiliation  \n",
       "0                     Cairo Microsoft Innovation Lab  \n",
       "1                     Cairo Microsoft Innovation Lab  \n",
       "2                     Cairo Microsoft Innovation Lab  \n",
       "3                     Cairo Microsoft Innovation Lab  \n",
       "4  Departamento Matemática, FCEyN UBA (1428) Buen...  "
      ]
     },
     "metadata": {},
     "output_type": "display_data"
    },
    {
     "data": {
      "text/html": [
       "<div>\n",
       "<style scoped>\n",
       "    .dataframe tbody tr th:only-of-type {\n",
       "        vertical-align: middle;\n",
       "    }\n",
       "\n",
       "    .dataframe tbody tr th {\n",
       "        vertical-align: top;\n",
       "    }\n",
       "\n",
       "    .dataframe thead th {\n",
       "        text-align: right;\n",
       "    }\n",
       "</style>\n",
       "<table border=\"1\" class=\"dataframe\">\n",
       "  <thead>\n",
       "    <tr style=\"text-align: right;\">\n",
       "      <th></th>\n",
       "      <th>Id</th>\n",
       "      <th>Name</th>\n",
       "      <th>Affiliation</th>\n",
       "    </tr>\n",
       "  </thead>\n",
       "  <tbody>\n",
       "    <tr>\n",
       "      <td>0</td>\n",
       "      <td>9</td>\n",
       "      <td>Ernest Jordan</td>\n",
       "      <td>NaN</td>\n",
       "    </tr>\n",
       "    <tr>\n",
       "      <td>1</td>\n",
       "      <td>14</td>\n",
       "      <td>K. MORIBE</td>\n",
       "      <td>NaN</td>\n",
       "    </tr>\n",
       "    <tr>\n",
       "      <td>2</td>\n",
       "      <td>15</td>\n",
       "      <td>D. Jakominich</td>\n",
       "      <td>NaN</td>\n",
       "    </tr>\n",
       "    <tr>\n",
       "      <td>3</td>\n",
       "      <td>25</td>\n",
       "      <td>William H. Nailon</td>\n",
       "      <td>NaN</td>\n",
       "    </tr>\n",
       "    <tr>\n",
       "      <td>4</td>\n",
       "      <td>37</td>\n",
       "      <td>P. B. Littlewood</td>\n",
       "      <td>Cavendish Laboratory|Cambridge University</td>\n",
       "    </tr>\n",
       "  </tbody>\n",
       "</table>\n",
       "</div>"
      ],
      "text/plain": [
       "   Id               Name                                Affiliation\n",
       "0   9      Ernest Jordan                                        NaN\n",
       "1  14          K. MORIBE                                        NaN\n",
       "2  15      D. Jakominich                                        NaN\n",
       "3  25  William H. Nailon                                        NaN\n",
       "4  37   P. B. Littlewood  Cavendish Laboratory|Cambridge University"
      ]
     },
     "metadata": {},
     "output_type": "display_data"
    },
    {
     "data": {
      "text/html": [
       "<div>\n",
       "<style scoped>\n",
       "    .dataframe tbody tr th:only-of-type {\n",
       "        vertical-align: middle;\n",
       "    }\n",
       "\n",
       "    .dataframe tbody tr th {\n",
       "        vertical-align: top;\n",
       "    }\n",
       "\n",
       "    .dataframe thead th {\n",
       "        text-align: right;\n",
       "    }\n",
       "</style>\n",
       "<table border=\"1\" class=\"dataframe\">\n",
       "  <thead>\n",
       "    <tr style=\"text-align: right;\">\n",
       "      <th></th>\n",
       "      <th>Id</th>\n",
       "      <th>ShortName</th>\n",
       "      <th>FullName</th>\n",
       "      <th>HomePage</th>\n",
       "    </tr>\n",
       "  </thead>\n",
       "  <tbody>\n",
       "    <tr>\n",
       "      <td>0</td>\n",
       "      <td>1</td>\n",
       "      <td>ICOM</td>\n",
       "      <td>Zeitschrift Für Interaktive Und Kooperative Me...</td>\n",
       "      <td>http://www.i-com-media.de</td>\n",
       "    </tr>\n",
       "    <tr>\n",
       "      <td>1</td>\n",
       "      <td>2</td>\n",
       "      <td>AEPIA</td>\n",
       "      <td>Inteligencia Artificial,revista Iberoamericana...</td>\n",
       "      <td>http://aepia.dsic.upv.es/revista/</td>\n",
       "    </tr>\n",
       "    <tr>\n",
       "      <td>2</td>\n",
       "      <td>3</td>\n",
       "      <td>IBMRD</td>\n",
       "      <td>Ibm Journal of Research and Development</td>\n",
       "      <td>http://www-tr.watson.ibm.com/journal/rdindex.html</td>\n",
       "    </tr>\n",
       "    <tr>\n",
       "      <td>3</td>\n",
       "      <td>4</td>\n",
       "      <td>IBMSJ</td>\n",
       "      <td>Ibm Systems Journal</td>\n",
       "      <td>http://researchweb.watson.ibm.com/journal/</td>\n",
       "    </tr>\n",
       "    <tr>\n",
       "      <td>4</td>\n",
       "      <td>5</td>\n",
       "      <td>NaN</td>\n",
       "      <td>Iet Software/iee Proceedings - Software</td>\n",
       "      <td>http://www.ietdl.org/IET-SEN</td>\n",
       "    </tr>\n",
       "  </tbody>\n",
       "</table>\n",
       "</div>"
      ],
      "text/plain": [
       "   Id ShortName                                           FullName  \\\n",
       "0   1      ICOM  Zeitschrift Für Interaktive Und Kooperative Me...   \n",
       "1   2     AEPIA  Inteligencia Artificial,revista Iberoamericana...   \n",
       "2   3     IBMRD            Ibm Journal of Research and Development   \n",
       "3   4     IBMSJ                                Ibm Systems Journal   \n",
       "4   5       NaN            Iet Software/iee Proceedings - Software   \n",
       "\n",
       "                                            HomePage  \n",
       "0                          http://www.i-com-media.de  \n",
       "1                  http://aepia.dsic.upv.es/revista/  \n",
       "2  http://www-tr.watson.ibm.com/journal/rdindex.html  \n",
       "3         http://researchweb.watson.ibm.com/journal/  \n",
       "4                       http://www.ietdl.org/IET-SEN  "
      ]
     },
     "metadata": {},
     "output_type": "display_data"
    },
    {
     "data": {
      "text/html": [
       "<div>\n",
       "<style scoped>\n",
       "    .dataframe tbody tr th:only-of-type {\n",
       "        vertical-align: middle;\n",
       "    }\n",
       "\n",
       "    .dataframe tbody tr th {\n",
       "        vertical-align: top;\n",
       "    }\n",
       "\n",
       "    .dataframe thead th {\n",
       "        text-align: right;\n",
       "    }\n",
       "</style>\n",
       "<table border=\"1\" class=\"dataframe\">\n",
       "  <thead>\n",
       "    <tr style=\"text-align: right;\">\n",
       "      <th></th>\n",
       "      <th>Id</th>\n",
       "      <th>ShortName</th>\n",
       "      <th>FullName</th>\n",
       "      <th>HomePage</th>\n",
       "    </tr>\n",
       "  </thead>\n",
       "  <tbody>\n",
       "    <tr>\n",
       "      <td>0</td>\n",
       "      <td>1</td>\n",
       "      <td>IADIS</td>\n",
       "      <td>International Association for Development of t...</td>\n",
       "      <td>NaN</td>\n",
       "    </tr>\n",
       "    <tr>\n",
       "      <td>1</td>\n",
       "      <td>2</td>\n",
       "      <td>IADT</td>\n",
       "      <td>Issues and Applications of Database Technology</td>\n",
       "      <td>http://www.informatik.uni-trier.de/~ley/db/con...</td>\n",
       "    </tr>\n",
       "    <tr>\n",
       "      <td>2</td>\n",
       "      <td>4</td>\n",
       "      <td>NaN</td>\n",
       "      <td>IBM Germany Scientific Symposium Series</td>\n",
       "      <td>http://www.informatik.uni-trier.de/~ley/db/con...</td>\n",
       "    </tr>\n",
       "    <tr>\n",
       "      <td>3</td>\n",
       "      <td>5</td>\n",
       "      <td>ICOMP</td>\n",
       "      <td>International Conference on Internet Computing</td>\n",
       "      <td>http://www.informatik.uni-trier.de/~ley/db/con...</td>\n",
       "    </tr>\n",
       "    <tr>\n",
       "      <td>4</td>\n",
       "      <td>6</td>\n",
       "      <td>ICAC</td>\n",
       "      <td>International Conference on Autonomic Computing</td>\n",
       "      <td>http://www.autonomic-conference.org/</td>\n",
       "    </tr>\n",
       "  </tbody>\n",
       "</table>\n",
       "</div>"
      ],
      "text/plain": [
       "   Id ShortName                                           FullName  \\\n",
       "0   1     IADIS  International Association for Development of t...   \n",
       "1   2      IADT     Issues and Applications of Database Technology   \n",
       "2   4       NaN            IBM Germany Scientific Symposium Series   \n",
       "3   5     ICOMP     International Conference on Internet Computing   \n",
       "4   6      ICAC    International Conference on Autonomic Computing   \n",
       "\n",
       "                                            HomePage  \n",
       "0                                                NaN  \n",
       "1  http://www.informatik.uni-trier.de/~ley/db/con...  \n",
       "2  http://www.informatik.uni-trier.de/~ley/db/con...  \n",
       "3  http://www.informatik.uni-trier.de/~ley/db/con...  \n",
       "4               http://www.autonomic-conference.org/  "
      ]
     },
     "metadata": {},
     "output_type": "display_data"
    },
    {
     "data": {
      "text/html": [
       "<div>\n",
       "<style scoped>\n",
       "    .dataframe tbody tr th:only-of-type {\n",
       "        vertical-align: middle;\n",
       "    }\n",
       "\n",
       "    .dataframe tbody tr th {\n",
       "        vertical-align: top;\n",
       "    }\n",
       "\n",
       "    .dataframe thead th {\n",
       "        text-align: right;\n",
       "    }\n",
       "</style>\n",
       "<table border=\"1\" class=\"dataframe\">\n",
       "  <thead>\n",
       "    <tr style=\"text-align: right;\">\n",
       "      <th></th>\n",
       "      <th>AuthorId</th>\n",
       "      <th>ConfirmedPaperIds</th>\n",
       "      <th>DeletedPaperIds</th>\n",
       "    </tr>\n",
       "  </thead>\n",
       "  <tbody>\n",
       "    <tr>\n",
       "      <td>0</td>\n",
       "      <td>826</td>\n",
       "      <td>25733 47276 77012 79468 87141 101385 104556 11...</td>\n",
       "      <td>220293 379873 384468 565252 939749 944658 1164...</td>\n",
       "    </tr>\n",
       "    <tr>\n",
       "      <td>1</td>\n",
       "      <td>933</td>\n",
       "      <td>1739240</td>\n",
       "      <td>477879</td>\n",
       "    </tr>\n",
       "    <tr>\n",
       "      <td>2</td>\n",
       "      <td>1118</td>\n",
       "      <td>49963 93433 341015 415282 488635 517119 521922...</td>\n",
       "      <td>961444 1446566</td>\n",
       "    </tr>\n",
       "    <tr>\n",
       "      <td>3</td>\n",
       "      <td>2783</td>\n",
       "      <td>154377 212636 334024 350747 696269 704564 1241...</td>\n",
       "      <td>208521 1207662 1898210</td>\n",
       "    </tr>\n",
       "    <tr>\n",
       "      <td>4</td>\n",
       "      <td>3105</td>\n",
       "      <td>603562 647574 792910 844605 863071 878798 1082...</td>\n",
       "      <td>191079 226980 273592 529834 556687 1052455 131...</td>\n",
       "    </tr>\n",
       "  </tbody>\n",
       "</table>\n",
       "</div>"
      ],
      "text/plain": [
       "   AuthorId                                  ConfirmedPaperIds  \\\n",
       "0       826  25733 47276 77012 79468 87141 101385 104556 11...   \n",
       "1       933                                            1739240   \n",
       "2      1118  49963 93433 341015 415282 488635 517119 521922...   \n",
       "3      2783  154377 212636 334024 350747 696269 704564 1241...   \n",
       "4      3105  603562 647574 792910 844605 863071 878798 1082...   \n",
       "\n",
       "                                     DeletedPaperIds  \n",
       "0  220293 379873 384468 565252 939749 944658 1164...  \n",
       "1                                             477879  \n",
       "2                                     961444 1446566  \n",
       "3                             208521 1207662 1898210  \n",
       "4  191079 226980 273592 529834 556687 1052455 131...  "
      ]
     },
     "metadata": {},
     "output_type": "display_data"
    },
    {
     "data": {
      "text/html": [
       "<div>\n",
       "<style scoped>\n",
       "    .dataframe tbody tr th:only-of-type {\n",
       "        vertical-align: middle;\n",
       "    }\n",
       "\n",
       "    .dataframe tbody tr th {\n",
       "        vertical-align: top;\n",
       "    }\n",
       "\n",
       "    .dataframe thead th {\n",
       "        text-align: right;\n",
       "    }\n",
       "</style>\n",
       "<table border=\"1\" class=\"dataframe\">\n",
       "  <thead>\n",
       "    <tr style=\"text-align: right;\">\n",
       "      <th></th>\n",
       "      <th>Id</th>\n",
       "      <th>Title</th>\n",
       "      <th>Year</th>\n",
       "      <th>ConferenceId</th>\n",
       "      <th>JournalId</th>\n",
       "      <th>Keyword</th>\n",
       "    </tr>\n",
       "  </thead>\n",
       "  <tbody>\n",
       "    <tr>\n",
       "      <td>0</td>\n",
       "      <td>1</td>\n",
       "      <td>Stitching videos streamed by mobile phones in ...</td>\n",
       "      <td>2009</td>\n",
       "      <td>167</td>\n",
       "      <td>0</td>\n",
       "      <td>mobile video capturing|real-time|video stitching</td>\n",
       "    </tr>\n",
       "    <tr>\n",
       "      <td>1</td>\n",
       "      <td>2</td>\n",
       "      <td>A nonlocal convection–diffusion equation</td>\n",
       "      <td>2007</td>\n",
       "      <td>0</td>\n",
       "      <td>7234</td>\n",
       "      <td>Nonlocal diffusion; Convection–diffusion; Asym...</td>\n",
       "    </tr>\n",
       "    <tr>\n",
       "      <td>2</td>\n",
       "      <td>3</td>\n",
       "      <td>Area Effects in Cepaea</td>\n",
       "      <td>1963</td>\n",
       "      <td>0</td>\n",
       "      <td>16867</td>\n",
       "      <td>NaN</td>\n",
       "    </tr>\n",
       "    <tr>\n",
       "      <td>3</td>\n",
       "      <td>4</td>\n",
       "      <td>Multiple paternity in a natural population of ...</td>\n",
       "      <td>2005</td>\n",
       "      <td>0</td>\n",
       "      <td>6130</td>\n",
       "      <td>NaN</td>\n",
       "    </tr>\n",
       "    <tr>\n",
       "      <td>4</td>\n",
       "      <td>5</td>\n",
       "      <td>Complexity of Finding Short Resolution Proofs</td>\n",
       "      <td>1997</td>\n",
       "      <td>158</td>\n",
       "      <td>0</td>\n",
       "      <td>NaN</td>\n",
       "    </tr>\n",
       "  </tbody>\n",
       "</table>\n",
       "</div>"
      ],
      "text/plain": [
       "   Id                                              Title  Year  ConferenceId  \\\n",
       "0   1  Stitching videos streamed by mobile phones in ...  2009           167   \n",
       "1   2           A nonlocal convection–diffusion equation  2007             0   \n",
       "2   3                             Area Effects in Cepaea  1963             0   \n",
       "3   4  Multiple paternity in a natural population of ...  2005             0   \n",
       "4   5      Complexity of Finding Short Resolution Proofs  1997           158   \n",
       "\n",
       "   JournalId                                            Keyword  \n",
       "0          0   mobile video capturing|real-time|video stitching  \n",
       "1       7234  Nonlocal diffusion; Convection–diffusion; Asym...  \n",
       "2      16867                                                NaN  \n",
       "3       6130                                                NaN  \n",
       "4          0                                                NaN  "
      ]
     },
     "metadata": {},
     "output_type": "display_data"
    },
    {
     "data": {
      "text/plain": [
       "[None, None, None, None, None, None, None]"
      ]
     },
     "execution_count": 15,
     "metadata": {},
     "output_type": "execute_result"
    }
   ],
   "source": [
    "[display(x) for x in data]"
   ]
  },
  {
   "cell_type": "code",
   "execution_count": null,
   "metadata": {},
   "outputs": [],
   "source": []
  },
  {
   "cell_type": "code",
   "execution_count": null,
   "metadata": {},
   "outputs": [],
   "source": []
  },
  {
   "cell_type": "code",
   "execution_count": 19,
   "metadata": {},
   "outputs": [],
   "source": [
    "class graphEmbedder:\n",
    "    \n",
    "    def __init__(self):\n",
    "        self.entityNodes = set()\n",
    "        self.Graphs = []\n",
    "    \n",
    "    def defineKeys(self,df,idCol):\n",
    "        temp = set(df[idCol])\n",
    "        self.entityNodes.update(temp)\n",
    "    \n",
    "    def embeddOrdinal(self,dfs,idCol,column,name,bins=10, equalBinSize = True):\n",
    "        df = pd.concat([df[[idCol,column]] for df in dfs])\n",
    "        if equalBinSize: temp = pd.qcut(df[column], q = bins)\n",
    "        else: temp = temp = pd.cut(df[column], bins = bins)\n",
    "        \n",
    "        tempDf = df[[idCol]].copy(deep=True)\n",
    "        tempDf['temp'] = temp\n",
    "        graph = dict(tempDf.dropna().to_numpy())\n",
    "        self.Graphs.append((name,graph))\n",
    "        return True\n",
    "    \n",
    "    def embeddText(self,dfs,idCol, column,name, min_df = 0.01, method = 'BagOfWords'):\n",
    "        df = pd.concat([df[[idCol,column]] for df in dfs])\n",
    "        temp = df[[idCol, column]]\n",
    "        temp = temp.dropna()\n",
    "        if method == 'BagOfWords': vectorizer = CountVectorizer(min_df=min_df, ngram_range = (1,2))\n",
    "        elif method == 'TFIDF': vectorizer = TfidfVectorizer(min_df=min_df, ngram_range = (1,2))\n",
    "        \n",
    "        output = CV.fit_transform(temp[column]).toarray()\n",
    "        tokens = CV.get_feature_names()\n",
    "        idVal = list(temp[idCol])\n",
    "        \n",
    "        graph = {}\n",
    "        for i in range(output.shape[0]):\n",
    "            words = []\n",
    "            for j in range(output.shape[1]):\n",
    "                if output[i][j] > 0:\n",
    "                    words.append(tokens[j])\n",
    "            graph[idVal[i]] = words\n",
    "        \n",
    "        self.Graphs.append((name,graph))\n",
    "        return True\n",
    "    \n",
    "    def embeddCategorical(self,dfs,idCol,column,name):\n",
    "        df = pd.concat([df[[idCol,column]] for df in dfs])\n",
    "        graph = dict(df[[idCol,column]].to_numpy())\n",
    "        self.Graphs.append((name,graph))\n",
    "        return True\n",
    "    \n",
    "    def defineTruth(self, df):\n",
    "        graph = dict(df.to_numpy())\n",
    "        self.Graphs.append(('ground_truth',graph))\n",
    "        return True\n",
    "    \n",
    "    def saveGraph(self, method = 'csv', fname = os.path.join(os.getcwd(),'heteroGraph.csv')):\n",
    "        df = pd.DataFrame(columns = ['source', 'target','type'])\n",
    "        for graph in self.Graphs:\n",
    "            name = graph[0]\n",
    "            links = graph[1]\n",
    "            data = self._graphFixer(links)\n",
    "            temp = pd.DataFrame(data = data, columns = ['source', 'target'])\n",
    "            temp['type'] = name\n",
    "            \n",
    "            df = pd.concat([df, temp])\n",
    "        df.to_csv(os.path.join(os.getcwd(),fname), index = False)\n",
    "    \n",
    "    def _graphFixer(self, dictionary):\n",
    "        temp = []\n",
    "        for key, value in dictionary.items():\n",
    "            if type(value)==list:\n",
    "                for v in value:\n",
    "                    temp.append((key,v))\n",
    "            else:\n",
    "                temp.append((key,value))\n",
    "        return temp"
   ]
  },
  {
   "cell_type": "markdown",
   "metadata": {},
   "source": [
    "## Abt-Buy Dataset"
   ]
  },
  {
   "cell_type": "code",
   "execution_count": 20,
   "metadata": {},
   "outputs": [],
   "source": [
    "def fixPrice(x):\n",
    "    if not (type(x)== float):\n",
    "        try:\n",
    "            return re.findall(\"\\d+\\.\\d+\", x)[0]\n",
    "        except:\n",
    "            return np.nan\n",
    "    else:\n",
    "        return x"
   ]
  },
  {
   "cell_type": "code",
   "execution_count": 21,
   "metadata": {},
   "outputs": [],
   "source": [
    "pt1 = \"../data/Abt-Buy/Abt.csv\"\n",
    "pt2 = \"../data/Abt-Buy/Buy.csv\"\n",
    "pt3 = \"../data/Abt-Buy/abt_buy_perfectMapping.csv\"\n",
    "\n",
    "Abt = pd.read_csv(pt1, engine = 'python')\n",
    "Buy = pd.read_csv(pt2, engine = 'python')\n",
    "truth = pd.read_csv(pt3)\n",
    "\n",
    "Abt['price'] = pd.to_numeric(Abt.price.apply(fixPrice))\n",
    "Buy['price'] = pd.to_numeric(Buy.price.apply(fixPrice))"
   ]
  },
  {
   "cell_type": "code",
   "execution_count": 22,
   "metadata": {},
   "outputs": [
    {
     "data": {
      "text/html": [
       "<div>\n",
       "<style scoped>\n",
       "    .dataframe tbody tr th:only-of-type {\n",
       "        vertical-align: middle;\n",
       "    }\n",
       "\n",
       "    .dataframe tbody tr th {\n",
       "        vertical-align: top;\n",
       "    }\n",
       "\n",
       "    .dataframe thead th {\n",
       "        text-align: right;\n",
       "    }\n",
       "</style>\n",
       "<table border=\"1\" class=\"dataframe\">\n",
       "  <thead>\n",
       "    <tr style=\"text-align: right;\">\n",
       "      <th></th>\n",
       "      <th>id</th>\n",
       "      <th>name</th>\n",
       "      <th>description</th>\n",
       "      <th>price</th>\n",
       "    </tr>\n",
       "  </thead>\n",
       "  <tbody>\n",
       "    <tr>\n",
       "      <td>0</td>\n",
       "      <td>552</td>\n",
       "      <td>Sony Turntable - PSLX350H</td>\n",
       "      <td>Sony Turntable - PSLX350H/ Belt Drive System/ ...</td>\n",
       "      <td>NaN</td>\n",
       "    </tr>\n",
       "    <tr>\n",
       "      <td>1</td>\n",
       "      <td>580</td>\n",
       "      <td>Bose Acoustimass 5 Series III Speaker System -...</td>\n",
       "      <td>Bose Acoustimass 5 Series III Speaker System -...</td>\n",
       "      <td>399.0</td>\n",
       "    </tr>\n",
       "    <tr>\n",
       "      <td>2</td>\n",
       "      <td>4696</td>\n",
       "      <td>Sony Switcher - SBV40S</td>\n",
       "      <td>Sony Switcher - SBV40S/ Eliminates Disconnecti...</td>\n",
       "      <td>49.0</td>\n",
       "    </tr>\n",
       "    <tr>\n",
       "      <td>3</td>\n",
       "      <td>5644</td>\n",
       "      <td>Sony 5 Disc CD Player - CDPCE375</td>\n",
       "      <td>Sony 5 Disc CD Player- CDPCE375/ 5 Disc Change...</td>\n",
       "      <td>NaN</td>\n",
       "    </tr>\n",
       "    <tr>\n",
       "      <td>4</td>\n",
       "      <td>6284</td>\n",
       "      <td>Bose 27028 161 Bookshelf Pair Speakers In Whit...</td>\n",
       "      <td>Bose 161 Bookshelf Speakers In White - 161WH/ ...</td>\n",
       "      <td>158.0</td>\n",
       "    </tr>\n",
       "  </tbody>\n",
       "</table>\n",
       "</div>"
      ],
      "text/plain": [
       "     id                                               name  \\\n",
       "0   552                          Sony Turntable - PSLX350H   \n",
       "1   580  Bose Acoustimass 5 Series III Speaker System -...   \n",
       "2  4696                             Sony Switcher - SBV40S   \n",
       "3  5644                   Sony 5 Disc CD Player - CDPCE375   \n",
       "4  6284  Bose 27028 161 Bookshelf Pair Speakers In Whit...   \n",
       "\n",
       "                                         description  price  \n",
       "0  Sony Turntable - PSLX350H/ Belt Drive System/ ...    NaN  \n",
       "1  Bose Acoustimass 5 Series III Speaker System -...  399.0  \n",
       "2  Sony Switcher - SBV40S/ Eliminates Disconnecti...   49.0  \n",
       "3  Sony 5 Disc CD Player- CDPCE375/ 5 Disc Change...    NaN  \n",
       "4  Bose 161 Bookshelf Speakers In White - 161WH/ ...  158.0  "
      ]
     },
     "metadata": {},
     "output_type": "display_data"
    },
    {
     "data": {
      "text/html": [
       "<div>\n",
       "<style scoped>\n",
       "    .dataframe tbody tr th:only-of-type {\n",
       "        vertical-align: middle;\n",
       "    }\n",
       "\n",
       "    .dataframe tbody tr th {\n",
       "        vertical-align: top;\n",
       "    }\n",
       "\n",
       "    .dataframe thead th {\n",
       "        text-align: right;\n",
       "    }\n",
       "</style>\n",
       "<table border=\"1\" class=\"dataframe\">\n",
       "  <thead>\n",
       "    <tr style=\"text-align: right;\">\n",
       "      <th></th>\n",
       "      <th>id</th>\n",
       "      <th>name</th>\n",
       "      <th>description</th>\n",
       "      <th>manufacturer</th>\n",
       "      <th>price</th>\n",
       "    </tr>\n",
       "  </thead>\n",
       "  <tbody>\n",
       "    <tr>\n",
       "      <td>0</td>\n",
       "      <td>10011646</td>\n",
       "      <td>Linksys EtherFast EZXS88W Ethernet Switch - EZ...</td>\n",
       "      <td>Linksys EtherFast 8-Port 10/100 Switch (New/Wo...</td>\n",
       "      <td>LINKSYS</td>\n",
       "      <td>NaN</td>\n",
       "    </tr>\n",
       "    <tr>\n",
       "      <td>1</td>\n",
       "      <td>10140760</td>\n",
       "      <td>Linksys EtherFast EZXS55W Ethernet Switch</td>\n",
       "      <td>5 x 10/100Base-TX LAN</td>\n",
       "      <td>LINKSYS</td>\n",
       "      <td>NaN</td>\n",
       "    </tr>\n",
       "    <tr>\n",
       "      <td>2</td>\n",
       "      <td>10221960</td>\n",
       "      <td>Netgear ProSafe FS105 Ethernet Switch - FS105NA</td>\n",
       "      <td>NETGEAR FS105 Prosafe 5 Port 10/100 Desktop Sw...</td>\n",
       "      <td>Netgear</td>\n",
       "      <td>NaN</td>\n",
       "    </tr>\n",
       "    <tr>\n",
       "      <td>3</td>\n",
       "      <td>10246269</td>\n",
       "      <td>Belkin Pro Series High Integrity VGA/SVGA Moni...</td>\n",
       "      <td>1 x HD-15 - 1 x HD-15 - 10ft - Beige</td>\n",
       "      <td>Belkin</td>\n",
       "      <td>NaN</td>\n",
       "    </tr>\n",
       "    <tr>\n",
       "      <td>4</td>\n",
       "      <td>10315184</td>\n",
       "      <td>Netgear ProSafe JFS516 Ethernet Switch</td>\n",
       "      <td>Netgear ProSafe 16 Port 10/100 Rackmount Switc...</td>\n",
       "      <td>Netgear</td>\n",
       "      <td>NaN</td>\n",
       "    </tr>\n",
       "  </tbody>\n",
       "</table>\n",
       "</div>"
      ],
      "text/plain": [
       "         id                                               name  \\\n",
       "0  10011646  Linksys EtherFast EZXS88W Ethernet Switch - EZ...   \n",
       "1  10140760          Linksys EtherFast EZXS55W Ethernet Switch   \n",
       "2  10221960    Netgear ProSafe FS105 Ethernet Switch - FS105NA   \n",
       "3  10246269  Belkin Pro Series High Integrity VGA/SVGA Moni...   \n",
       "4  10315184             Netgear ProSafe JFS516 Ethernet Switch   \n",
       "\n",
       "                                         description manufacturer  price  \n",
       "0  Linksys EtherFast 8-Port 10/100 Switch (New/Wo...      LINKSYS    NaN  \n",
       "1                              5 x 10/100Base-TX LAN      LINKSYS    NaN  \n",
       "2  NETGEAR FS105 Prosafe 5 Port 10/100 Desktop Sw...      Netgear    NaN  \n",
       "3               1 x HD-15 - 1 x HD-15 - 10ft - Beige       Belkin    NaN  \n",
       "4  Netgear ProSafe 16 Port 10/100 Rackmount Switc...      Netgear    NaN  "
      ]
     },
     "metadata": {},
     "output_type": "display_data"
    }
   ],
   "source": [
    "display(Abt.head())\n",
    "display(Buy.head())"
   ]
  },
  {
   "cell_type": "code",
   "execution_count": 25,
   "metadata": {},
   "outputs": [],
   "source": [
    "gE = graphEmbedder()"
   ]
  },
  {
   "cell_type": "code",
   "execution_count": 31,
   "metadata": {},
   "outputs": [
    {
     "data": {
      "text/plain": [
       "0       NaN\n",
       "1       1.0\n",
       "2       0.0\n",
       "3       NaN\n",
       "4       0.0\n",
       "       ... \n",
       "1076    0.0\n",
       "1077    2.0\n",
       "1078    0.0\n",
       "1079    NaN\n",
       "1080    0.0\n",
       "Name: price, Length: 1081, dtype: float64"
      ]
     },
     "execution_count": 31,
     "metadata": {},
     "output_type": "execute_result"
    }
   ],
   "source": [
    "pd.cut(Abt.price, bins = 5, labels = False)"
   ]
  },
  {
   "cell_type": "code",
   "execution_count": 473,
   "metadata": {},
   "outputs": [],
   "source": [
    "gE.defineKeys(Abt, 'id')\n",
    "gE.defineKeys(Buy, 'id')"
   ]
  },
  {
   "cell_type": "code",
   "execution_count": 474,
   "metadata": {},
   "outputs": [
    {
     "data": {
      "text/plain": [
       "True"
      ]
     },
     "execution_count": 474,
     "metadata": {},
     "output_type": "execute_result"
    }
   ],
   "source": [
    "gE.defineTruth(truth)"
   ]
  },
  {
   "cell_type": "code",
   "execution_count": 475,
   "metadata": {},
   "outputs": [
    {
     "data": {
      "text/plain": [
       "True"
      ]
     },
     "execution_count": 475,
     "metadata": {},
     "output_type": "execute_result"
    }
   ],
   "source": [
    "gE.embeddText([Abt,Buy], 'id','name','name', min_df=0)"
   ]
  },
  {
   "cell_type": "code",
   "execution_count": 476,
   "metadata": {},
   "outputs": [
    {
     "data": {
      "text/plain": [
       "True"
      ]
     },
     "execution_count": 476,
     "metadata": {},
     "output_type": "execute_result"
    }
   ],
   "source": [
    "gE.embeddText([Abt,Buy], 'id','description','description', min_df = 0.05)"
   ]
  },
  {
   "cell_type": "code",
   "execution_count": 477,
   "metadata": {},
   "outputs": [
    {
     "data": {
      "text/plain": [
       "True"
      ]
     },
     "execution_count": 477,
     "metadata": {},
     "output_type": "execute_result"
    }
   ],
   "source": [
    "gE.embeddOrdinal([Abt,Buy],'id','price','price', bins = 5)"
   ]
  },
  {
   "cell_type": "code",
   "execution_count": 478,
   "metadata": {},
   "outputs": [
    {
     "data": {
      "text/plain": [
       "True"
      ]
     },
     "execution_count": 478,
     "metadata": {},
     "output_type": "execute_result"
    }
   ],
   "source": [
    "gE.embeddCategorical([Buy], 'id', 'manufacturer', 'manufacturer')"
   ]
  },
  {
   "cell_type": "code",
   "execution_count": 479,
   "metadata": {},
   "outputs": [],
   "source": [
    "gE.saveGraph()"
   ]
  },
  {
   "cell_type": "markdown",
   "metadata": {},
   "source": [
    "## DBLP-ACM Datset"
   ]
  },
  {
   "cell_type": "code",
   "execution_count": 480,
   "metadata": {},
   "outputs": [],
   "source": [
    "pt1 = \"../data/DBLP-ACM/DBLP2.csv\"\n",
    "pt2 = \"../data/DBLP-ACM/ACM.csv\"\n",
    "pt3 = \"../data/DBLP-ACM/DBLP-ACM_perfectMapping.csv\""
   ]
  },
  {
   "cell_type": "code",
   "execution_count": 481,
   "metadata": {},
   "outputs": [],
   "source": [
    "dblp2 = pd.read_csv(pt1, engine = 'python')\n",
    "acm = pd.read_csv(pt2)\n",
    "matchings = pd.read_csv(pt3)"
   ]
  },
  {
   "cell_type": "code",
   "execution_count": 482,
   "metadata": {},
   "outputs": [
    {
     "data": {
      "text/html": [
       "<div>\n",
       "<style scoped>\n",
       "    .dataframe tbody tr th:only-of-type {\n",
       "        vertical-align: middle;\n",
       "    }\n",
       "\n",
       "    .dataframe tbody tr th {\n",
       "        vertical-align: top;\n",
       "    }\n",
       "\n",
       "    .dataframe thead th {\n",
       "        text-align: right;\n",
       "    }\n",
       "</style>\n",
       "<table border=\"1\" class=\"dataframe\">\n",
       "  <thead>\n",
       "    <tr style=\"text-align: right;\">\n",
       "      <th></th>\n",
       "      <th>id</th>\n",
       "      <th>title</th>\n",
       "      <th>authors</th>\n",
       "      <th>venue</th>\n",
       "      <th>year</th>\n",
       "    </tr>\n",
       "  </thead>\n",
       "  <tbody>\n",
       "    <tr>\n",
       "      <td>0</td>\n",
       "      <td>journals/sigmod/Mackay99</td>\n",
       "      <td>Semantic Integration of Environmental Models f...</td>\n",
       "      <td>D. Scott Mackay</td>\n",
       "      <td>SIGMOD Record</td>\n",
       "      <td>1999</td>\n",
       "    </tr>\n",
       "    <tr>\n",
       "      <td>1</td>\n",
       "      <td>conf/vldb/PoosalaI96</td>\n",
       "      <td>Estimation of Query-Result Distribution and it...</td>\n",
       "      <td>Viswanath Poosala, Yannis E. Ioannidis</td>\n",
       "      <td>VLDB</td>\n",
       "      <td>1996</td>\n",
       "    </tr>\n",
       "    <tr>\n",
       "      <td>2</td>\n",
       "      <td>conf/vldb/PalpanasSCP02</td>\n",
       "      <td>Incremental Maintenance for Non-Distributive A...</td>\n",
       "      <td>Themistoklis Palpanas, Richard Sidle, Hamid Pi...</td>\n",
       "      <td>VLDB</td>\n",
       "      <td>2002</td>\n",
       "    </tr>\n",
       "    <tr>\n",
       "      <td>3</td>\n",
       "      <td>conf/vldb/GardarinGT96</td>\n",
       "      <td>Cost-based Selection of Path Expression Proces...</td>\n",
       "      <td>Zhao-Hui Tang, Georges Gardarin, Jean-Robert G...</td>\n",
       "      <td>VLDB</td>\n",
       "      <td>1996</td>\n",
       "    </tr>\n",
       "    <tr>\n",
       "      <td>4</td>\n",
       "      <td>conf/vldb/HoelS95</td>\n",
       "      <td>Benchmarking Spatial Join Operations with Spat...</td>\n",
       "      <td>Erik G. Hoel, Hanan Samet</td>\n",
       "      <td>VLDB</td>\n",
       "      <td>1995</td>\n",
       "    </tr>\n",
       "  </tbody>\n",
       "</table>\n",
       "</div>"
      ],
      "text/plain": [
       "                         id  \\\n",
       "0  journals/sigmod/Mackay99   \n",
       "1      conf/vldb/PoosalaI96   \n",
       "2   conf/vldb/PalpanasSCP02   \n",
       "3    conf/vldb/GardarinGT96   \n",
       "4         conf/vldb/HoelS95   \n",
       "\n",
       "                                               title  \\\n",
       "0  Semantic Integration of Environmental Models f...   \n",
       "1  Estimation of Query-Result Distribution and it...   \n",
       "2  Incremental Maintenance for Non-Distributive A...   \n",
       "3  Cost-based Selection of Path Expression Proces...   \n",
       "4  Benchmarking Spatial Join Operations with Spat...   \n",
       "\n",
       "                                             authors          venue  year  \n",
       "0                                    D. Scott Mackay  SIGMOD Record  1999  \n",
       "1             Viswanath Poosala, Yannis E. Ioannidis           VLDB  1996  \n",
       "2  Themistoklis Palpanas, Richard Sidle, Hamid Pi...           VLDB  2002  \n",
       "3  Zhao-Hui Tang, Georges Gardarin, Jean-Robert G...           VLDB  1996  \n",
       "4                          Erik G. Hoel, Hanan Samet           VLDB  1995  "
      ]
     },
     "metadata": {},
     "output_type": "display_data"
    },
    {
     "data": {
      "text/html": [
       "<div>\n",
       "<style scoped>\n",
       "    .dataframe tbody tr th:only-of-type {\n",
       "        vertical-align: middle;\n",
       "    }\n",
       "\n",
       "    .dataframe tbody tr th {\n",
       "        vertical-align: top;\n",
       "    }\n",
       "\n",
       "    .dataframe thead th {\n",
       "        text-align: right;\n",
       "    }\n",
       "</style>\n",
       "<table border=\"1\" class=\"dataframe\">\n",
       "  <thead>\n",
       "    <tr style=\"text-align: right;\">\n",
       "      <th></th>\n",
       "      <th>id</th>\n",
       "      <th>title</th>\n",
       "      <th>authors</th>\n",
       "      <th>venue</th>\n",
       "      <th>year</th>\n",
       "    </tr>\n",
       "  </thead>\n",
       "  <tbody>\n",
       "    <tr>\n",
       "      <td>0</td>\n",
       "      <td>304586</td>\n",
       "      <td>The WASA2 object-oriented workflow management ...</td>\n",
       "      <td>Gottfried Vossen, Mathias Weske</td>\n",
       "      <td>International Conference on Management of Data</td>\n",
       "      <td>1999</td>\n",
       "    </tr>\n",
       "    <tr>\n",
       "      <td>1</td>\n",
       "      <td>304587</td>\n",
       "      <td>A user-centered interface for querying distrib...</td>\n",
       "      <td>Isabel F. Cruz, Kimberly M. James</td>\n",
       "      <td>International Conference on Management of Data</td>\n",
       "      <td>1999</td>\n",
       "    </tr>\n",
       "    <tr>\n",
       "      <td>2</td>\n",
       "      <td>304589</td>\n",
       "      <td>World Wide Database-integrating the Web, CORBA...</td>\n",
       "      <td>Athman Bouguettaya, Boualem Benatallah, Lily H...</td>\n",
       "      <td>International Conference on Management of Data</td>\n",
       "      <td>1999</td>\n",
       "    </tr>\n",
       "    <tr>\n",
       "      <td>3</td>\n",
       "      <td>304590</td>\n",
       "      <td>XML-based information mediation with MIX</td>\n",
       "      <td>Chaitan Baru, Amarnath Gupta, Bertram Lud&amp;#228...</td>\n",
       "      <td>International Conference on Management of Data</td>\n",
       "      <td>1999</td>\n",
       "    </tr>\n",
       "    <tr>\n",
       "      <td>4</td>\n",
       "      <td>304582</td>\n",
       "      <td>The CCUBE constraint object-oriented database ...</td>\n",
       "      <td>Alexander Brodsky, Victor E. Segal, Jia Chen, ...</td>\n",
       "      <td>International Conference on Management of Data</td>\n",
       "      <td>1999</td>\n",
       "    </tr>\n",
       "  </tbody>\n",
       "</table>\n",
       "</div>"
      ],
      "text/plain": [
       "       id                                              title  \\\n",
       "0  304586  The WASA2 object-oriented workflow management ...   \n",
       "1  304587  A user-centered interface for querying distrib...   \n",
       "2  304589  World Wide Database-integrating the Web, CORBA...   \n",
       "3  304590           XML-based information mediation with MIX   \n",
       "4  304582  The CCUBE constraint object-oriented database ...   \n",
       "\n",
       "                                             authors  \\\n",
       "0                    Gottfried Vossen, Mathias Weske   \n",
       "1                  Isabel F. Cruz, Kimberly M. James   \n",
       "2  Athman Bouguettaya, Boualem Benatallah, Lily H...   \n",
       "3  Chaitan Baru, Amarnath Gupta, Bertram Lud&#228...   \n",
       "4  Alexander Brodsky, Victor E. Segal, Jia Chen, ...   \n",
       "\n",
       "                                            venue  year  \n",
       "0  International Conference on Management of Data  1999  \n",
       "1  International Conference on Management of Data  1999  \n",
       "2  International Conference on Management of Data  1999  \n",
       "3  International Conference on Management of Data  1999  \n",
       "4  International Conference on Management of Data  1999  "
      ]
     },
     "metadata": {},
     "output_type": "display_data"
    }
   ],
   "source": [
    "display(dblp2.head())\n",
    "display(acm.head())"
   ]
  },
  {
   "cell_type": "code",
   "execution_count": 483,
   "metadata": {},
   "outputs": [],
   "source": [
    "gE = graphEmbedder()"
   ]
  },
  {
   "cell_type": "code",
   "execution_count": 484,
   "metadata": {},
   "outputs": [
    {
     "data": {
      "text/plain": [
       "True"
      ]
     },
     "execution_count": 484,
     "metadata": {},
     "output_type": "execute_result"
    }
   ],
   "source": [
    "gE.defineKeys(dblp2, 'id')\n",
    "gE.defineKeys(acm, 'id')\n",
    "gE.defineTruth(matchings)"
   ]
  },
  {
   "cell_type": "code",
   "execution_count": 485,
   "metadata": {},
   "outputs": [
    {
     "data": {
      "text/plain": [
       "True"
      ]
     },
     "execution_count": 485,
     "metadata": {},
     "output_type": "execute_result"
    }
   ],
   "source": [
    "gE.embeddText([dblp2,acm], 'id','title','title', min_df=0)\n",
    "gE.embeddText([dblp2,acm], 'id','authors','authors', min_df=0)"
   ]
  },
  {
   "cell_type": "code",
   "execution_count": 486,
   "metadata": {},
   "outputs": [
    {
     "data": {
      "text/plain": [
       "True"
      ]
     },
     "execution_count": 486,
     "metadata": {},
     "output_type": "execute_result"
    }
   ],
   "source": [
    "gE.embeddCategorical([dblp2,acm], 'id', 'venue', 'venue')\n",
    "gE.embeddCategorical([dblp2,acm], 'id', 'year', 'year')"
   ]
  },
  {
   "cell_type": "code",
   "execution_count": 487,
   "metadata": {},
   "outputs": [],
   "source": [
    "gE.saveGraph()"
   ]
  },
  {
   "cell_type": "markdown",
   "metadata": {},
   "source": [
    "## DBLP-Scholar Dataset"
   ]
  },
  {
   "cell_type": "code",
   "execution_count": 488,
   "metadata": {},
   "outputs": [],
   "source": [
    "pt1 = \"../data/DBLP-Scholar/DBLP1.csv\"\n",
    "pt2 = \"../data/DBLP-Scholar/Scholar.csv\"\n",
    "pt3 = \"../data/DBLP-Scholar/DBLP-Scholar_perfectMapping.csv\""
   ]
  },
  {
   "cell_type": "code",
   "execution_count": 489,
   "metadata": {},
   "outputs": [],
   "source": [
    "dblp1 = pd.read_csv(pt1, engine = 'python')\n",
    "scholar = pd.read_csv(pt2)\n",
    "matchings = pd.read_csv(pt3)"
   ]
  },
  {
   "cell_type": "code",
   "execution_count": 490,
   "metadata": {},
   "outputs": [
    {
     "data": {
      "text/html": [
       "<div>\n",
       "<style scoped>\n",
       "    .dataframe tbody tr th:only-of-type {\n",
       "        vertical-align: middle;\n",
       "    }\n",
       "\n",
       "    .dataframe tbody tr th {\n",
       "        vertical-align: top;\n",
       "    }\n",
       "\n",
       "    .dataframe thead th {\n",
       "        text-align: right;\n",
       "    }\n",
       "</style>\n",
       "<table border=\"1\" class=\"dataframe\">\n",
       "  <thead>\n",
       "    <tr style=\"text-align: right;\">\n",
       "      <th></th>\n",
       "      <th>id</th>\n",
       "      <th>title</th>\n",
       "      <th>authors</th>\n",
       "      <th>venue</th>\n",
       "      <th>year</th>\n",
       "    </tr>\n",
       "  </thead>\n",
       "  <tbody>\n",
       "    <tr>\n",
       "      <td>0</td>\n",
       "      <td>conf/vldb/RusinkiewiczKTWM95</td>\n",
       "      <td>Towards a Cooperative Transaction Model - The ...</td>\n",
       "      <td>M Rusinkiewicz, W Klas, T Tesch, J W�sch, P Muth</td>\n",
       "      <td>VLDB</td>\n",
       "      <td>1995</td>\n",
       "    </tr>\n",
       "    <tr>\n",
       "      <td>1</td>\n",
       "      <td>journals/sigmod/EisenbergM02</td>\n",
       "      <td>SQL/XML is Making Good Progress</td>\n",
       "      <td>A Eisenberg, J Melton</td>\n",
       "      <td>SIGMOD Record</td>\n",
       "      <td>2002</td>\n",
       "    </tr>\n",
       "    <tr>\n",
       "      <td>2</td>\n",
       "      <td>conf/vldb/AmmannJR95</td>\n",
       "      <td>Using Formal Methods to Reason about Semantics...</td>\n",
       "      <td>P Ammann, S Jajodia, I Ray</td>\n",
       "      <td>VLDB</td>\n",
       "      <td>1995</td>\n",
       "    </tr>\n",
       "    <tr>\n",
       "      <td>3</td>\n",
       "      <td>journals/sigmod/Liu02</td>\n",
       "      <td>Editor's Notes</td>\n",
       "      <td>L Liu</td>\n",
       "      <td>SIGMOD Record</td>\n",
       "      <td>2002</td>\n",
       "    </tr>\n",
       "    <tr>\n",
       "      <td>4</td>\n",
       "      <td>journals/sigmod/Hammer02</td>\n",
       "      <td>Report on the ACM Fourth International Worksho...</td>\n",
       "      <td>NaN</td>\n",
       "      <td>NaN</td>\n",
       "      <td>2002</td>\n",
       "    </tr>\n",
       "  </tbody>\n",
       "</table>\n",
       "</div>"
      ],
      "text/plain": [
       "                             id  \\\n",
       "0  conf/vldb/RusinkiewiczKTWM95   \n",
       "1  journals/sigmod/EisenbergM02   \n",
       "2          conf/vldb/AmmannJR95   \n",
       "3         journals/sigmod/Liu02   \n",
       "4      journals/sigmod/Hammer02   \n",
       "\n",
       "                                               title  \\\n",
       "0  Towards a Cooperative Transaction Model - The ...   \n",
       "1                    SQL/XML is Making Good Progress   \n",
       "2  Using Formal Methods to Reason about Semantics...   \n",
       "3                                     Editor's Notes   \n",
       "4  Report on the ACM Fourth International Worksho...   \n",
       "\n",
       "                                            authors          venue  year  \n",
       "0  M Rusinkiewicz, W Klas, T Tesch, J W�sch, P Muth           VLDB  1995  \n",
       "1                             A Eisenberg, J Melton  SIGMOD Record  2002  \n",
       "2                        P Ammann, S Jajodia, I Ray           VLDB  1995  \n",
       "3                                             L Liu  SIGMOD Record  2002  \n",
       "4                                               NaN            NaN  2002  "
      ]
     },
     "metadata": {},
     "output_type": "display_data"
    },
    {
     "data": {
      "text/html": [
       "<div>\n",
       "<style scoped>\n",
       "    .dataframe tbody tr th:only-of-type {\n",
       "        vertical-align: middle;\n",
       "    }\n",
       "\n",
       "    .dataframe tbody tr th {\n",
       "        vertical-align: top;\n",
       "    }\n",
       "\n",
       "    .dataframe thead th {\n",
       "        text-align: right;\n",
       "    }\n",
       "</style>\n",
       "<table border=\"1\" class=\"dataframe\">\n",
       "  <thead>\n",
       "    <tr style=\"text-align: right;\">\n",
       "      <th></th>\n",
       "      <th>id</th>\n",
       "      <th>title</th>\n",
       "      <th>authors</th>\n",
       "      <th>venue</th>\n",
       "      <th>year</th>\n",
       "    </tr>\n",
       "  </thead>\n",
       "  <tbody>\n",
       "    <tr>\n",
       "      <td>0</td>\n",
       "      <td>aKcZKwvwbQwJ</td>\n",
       "      <td>11578 Sorrento Valley Road</td>\n",
       "      <td>QD Inc</td>\n",
       "      <td>San Diego,</td>\n",
       "      <td>NaN</td>\n",
       "    </tr>\n",
       "    <tr>\n",
       "      <td>1</td>\n",
       "      <td>ixKfiTHoaDoJ</td>\n",
       "      <td>Initiation of crazes in polystyrene</td>\n",
       "      <td>AS Argon, JG Hannoosh</td>\n",
       "      <td>Phil. Mag,</td>\n",
       "      <td>NaN</td>\n",
       "    </tr>\n",
       "    <tr>\n",
       "      <td>2</td>\n",
       "      <td>3BxllB4wwcIJ</td>\n",
       "      <td>Immunogold labelling is a quantitative method ...</td>\n",
       "      <td>GH Hansen, LL Wetterberg, H SjÃ¶strÃ¶m, O NorÃ©n</td>\n",
       "      <td>The Histochemical Journal,</td>\n",
       "      <td>1992.0</td>\n",
       "    </tr>\n",
       "    <tr>\n",
       "      <td>3</td>\n",
       "      <td>d2WWxwKMex4J</td>\n",
       "      <td>The Burden of Infectious Disease Among Inmates...</td>\n",
       "      <td>TM Hammett, P Harmon, W Rhodes</td>\n",
       "      <td>see</td>\n",
       "      <td>NaN</td>\n",
       "    </tr>\n",
       "    <tr>\n",
       "      <td>4</td>\n",
       "      <td>cZCX-AQpjccJ</td>\n",
       "      <td>The Role of Faculty Advising in Science and En...</td>\n",
       "      <td>JR Cogdell</td>\n",
       "      <td>NEW DIRECTIONS FOR TEACHING AND LEARNING,</td>\n",
       "      <td>1995.0</td>\n",
       "    </tr>\n",
       "  </tbody>\n",
       "</table>\n",
       "</div>"
      ],
      "text/plain": [
       "             id                                              title  \\\n",
       "0  aKcZKwvwbQwJ                         11578 Sorrento Valley Road   \n",
       "1  ixKfiTHoaDoJ                Initiation of crazes in polystyrene   \n",
       "2  3BxllB4wwcIJ  Immunogold labelling is a quantitative method ...   \n",
       "3  d2WWxwKMex4J  The Burden of Infectious Disease Among Inmates...   \n",
       "4  cZCX-AQpjccJ  The Role of Faculty Advising in Science and En...   \n",
       "\n",
       "                                            authors  \\\n",
       "0                                            QD Inc   \n",
       "1                             AS Argon, JG Hannoosh   \n",
       "2  GH Hansen, LL Wetterberg, H SjÃ¶strÃ¶m, O NorÃ©n   \n",
       "3                    TM Hammett, P Harmon, W Rhodes   \n",
       "4                                        JR Cogdell   \n",
       "\n",
       "                                       venue    year  \n",
       "0                                 San Diego,     NaN  \n",
       "1                                 Phil. Mag,     NaN  \n",
       "2                 The Histochemical Journal,  1992.0  \n",
       "3                                        see     NaN  \n",
       "4  NEW DIRECTIONS FOR TEACHING AND LEARNING,  1995.0  "
      ]
     },
     "metadata": {},
     "output_type": "display_data"
    }
   ],
   "source": [
    "display(dblp1.head())\n",
    "display(scholar.head())"
   ]
  },
  {
   "cell_type": "code",
   "execution_count": 491,
   "metadata": {},
   "outputs": [],
   "source": [
    "gE = graphEmbedder()"
   ]
  },
  {
   "cell_type": "code",
   "execution_count": 492,
   "metadata": {},
   "outputs": [
    {
     "data": {
      "text/plain": [
       "True"
      ]
     },
     "execution_count": 492,
     "metadata": {},
     "output_type": "execute_result"
    }
   ],
   "source": [
    "gE.defineKeys(dblp1, 'id')\n",
    "gE.defineKeys(scholar, 'id')\n",
    "gE.defineTruth(matchings)"
   ]
  },
  {
   "cell_type": "code",
   "execution_count": 493,
   "metadata": {},
   "outputs": [
    {
     "data": {
      "text/plain": [
       "True"
      ]
     },
     "execution_count": 493,
     "metadata": {},
     "output_type": "execute_result"
    }
   ],
   "source": [
    "gE.embeddText([dblp1,scholar], 'id','title','title', min_df=0.01)\n",
    "gE.embeddText([dblp1,scholar], 'id','authors','authors', min_df=0.01)\n",
    "gE.embeddText([dblp1,scholar], 'id','venue','venue', min_df=0)"
   ]
  },
  {
   "cell_type": "code",
   "execution_count": 494,
   "metadata": {},
   "outputs": [
    {
     "data": {
      "text/plain": [
       "True"
      ]
     },
     "execution_count": 494,
     "metadata": {},
     "output_type": "execute_result"
    }
   ],
   "source": [
    "gE.embeddCategorical([dblp1,scholar], 'id', 'year', 'year')"
   ]
  },
  {
   "cell_type": "code",
   "execution_count": 495,
   "metadata": {},
   "outputs": [],
   "source": [
    "gE.saveGraph()"
   ]
  },
  {
   "cell_type": "code",
   "execution_count": null,
   "metadata": {},
   "outputs": [],
   "source": []
  },
  {
   "cell_type": "markdown",
   "metadata": {},
   "source": [
    "# Amazon-Google Product Dataset"
   ]
  },
  {
   "cell_type": "code",
   "execution_count": 496,
   "metadata": {},
   "outputs": [],
   "source": [
    "pt1 = \"../data/Amazon-GoogleProducts/Amazon.csv\"\n",
    "pt2 = \"../data/Amazon-GoogleProducts/GoogleProducts.csv\"\n",
    "pt3 = \"../data/Amazon-GoogleProducts/Amzon_GoogleProducts_perfectMapping.csv\""
   ]
  },
  {
   "cell_type": "code",
   "execution_count": 497,
   "metadata": {},
   "outputs": [],
   "source": [
    "amazon = pd.read_csv(pt1, engine = 'python')\n",
    "google = pd.read_csv(pt2, engine = 'python')\n",
    "matchings = pd.read_csv(pt3)"
   ]
  },
  {
   "cell_type": "code",
   "execution_count": 498,
   "metadata": {},
   "outputs": [
    {
     "data": {
      "text/html": [
       "<div>\n",
       "<style scoped>\n",
       "    .dataframe tbody tr th:only-of-type {\n",
       "        vertical-align: middle;\n",
       "    }\n",
       "\n",
       "    .dataframe tbody tr th {\n",
       "        vertical-align: top;\n",
       "    }\n",
       "\n",
       "    .dataframe thead th {\n",
       "        text-align: right;\n",
       "    }\n",
       "</style>\n",
       "<table border=\"1\" class=\"dataframe\">\n",
       "  <thead>\n",
       "    <tr style=\"text-align: right;\">\n",
       "      <th></th>\n",
       "      <th>id</th>\n",
       "      <th>title</th>\n",
       "      <th>description</th>\n",
       "      <th>manufacturer</th>\n",
       "      <th>price</th>\n",
       "    </tr>\n",
       "  </thead>\n",
       "  <tbody>\n",
       "    <tr>\n",
       "      <td>0</td>\n",
       "      <td>b000jz4hqo</td>\n",
       "      <td>clickart 950 000 - premier image pack (dvd-rom)</td>\n",
       "      <td>NaN</td>\n",
       "      <td>broderbund</td>\n",
       "      <td>0.00</td>\n",
       "    </tr>\n",
       "    <tr>\n",
       "      <td>1</td>\n",
       "      <td>b0006zf55o</td>\n",
       "      <td>ca international - arcserve lap/desktop oem 30pk</td>\n",
       "      <td>oem arcserve backup v11.1 win 30u for laptops ...</td>\n",
       "      <td>computer associates</td>\n",
       "      <td>0.00</td>\n",
       "    </tr>\n",
       "    <tr>\n",
       "      <td>2</td>\n",
       "      <td>b00004tkvy</td>\n",
       "      <td>noah's ark activity center (jewel case ages 3-8)</td>\n",
       "      <td>NaN</td>\n",
       "      <td>victory multimedia</td>\n",
       "      <td>0.00</td>\n",
       "    </tr>\n",
       "    <tr>\n",
       "      <td>3</td>\n",
       "      <td>b000g80lqo</td>\n",
       "      <td>peachtree by sage premium accounting for nonpr...</td>\n",
       "      <td>peachtree premium accounting for nonprofits 20...</td>\n",
       "      <td>sage software</td>\n",
       "      <td>599.99</td>\n",
       "    </tr>\n",
       "    <tr>\n",
       "      <td>4</td>\n",
       "      <td>b0006se5bq</td>\n",
       "      <td>singing coach unlimited</td>\n",
       "      <td>singing coach unlimited - electronic learning ...</td>\n",
       "      <td>carry-a-tune technologies</td>\n",
       "      <td>99.99</td>\n",
       "    </tr>\n",
       "  </tbody>\n",
       "</table>\n",
       "</div>"
      ],
      "text/plain": [
       "           id                                              title  \\\n",
       "0  b000jz4hqo    clickart 950 000 - premier image pack (dvd-rom)   \n",
       "1  b0006zf55o   ca international - arcserve lap/desktop oem 30pk   \n",
       "2  b00004tkvy   noah's ark activity center (jewel case ages 3-8)   \n",
       "3  b000g80lqo  peachtree by sage premium accounting for nonpr...   \n",
       "4  b0006se5bq                            singing coach unlimited   \n",
       "\n",
       "                                         description  \\\n",
       "0                                                NaN   \n",
       "1  oem arcserve backup v11.1 win 30u for laptops ...   \n",
       "2                                                NaN   \n",
       "3  peachtree premium accounting for nonprofits 20...   \n",
       "4  singing coach unlimited - electronic learning ...   \n",
       "\n",
       "                manufacturer   price  \n",
       "0                 broderbund    0.00  \n",
       "1        computer associates    0.00  \n",
       "2         victory multimedia    0.00  \n",
       "3              sage software  599.99  \n",
       "4  carry-a-tune technologies   99.99  "
      ]
     },
     "metadata": {},
     "output_type": "display_data"
    },
    {
     "data": {
      "text/html": [
       "<div>\n",
       "<style scoped>\n",
       "    .dataframe tbody tr th:only-of-type {\n",
       "        vertical-align: middle;\n",
       "    }\n",
       "\n",
       "    .dataframe tbody tr th {\n",
       "        vertical-align: top;\n",
       "    }\n",
       "\n",
       "    .dataframe thead th {\n",
       "        text-align: right;\n",
       "    }\n",
       "</style>\n",
       "<table border=\"1\" class=\"dataframe\">\n",
       "  <thead>\n",
       "    <tr style=\"text-align: right;\">\n",
       "      <th></th>\n",
       "      <th>id</th>\n",
       "      <th>name</th>\n",
       "      <th>description</th>\n",
       "      <th>manufacturer</th>\n",
       "      <th>price</th>\n",
       "    </tr>\n",
       "  </thead>\n",
       "  <tbody>\n",
       "    <tr>\n",
       "      <td>0</td>\n",
       "      <td>http://www.google.com/base/feeds/snippets/1112...</td>\n",
       "      <td>learning quickbooks 2007</td>\n",
       "      <td>learning quickbooks 2007</td>\n",
       "      <td>intuit</td>\n",
       "      <td>38.99</td>\n",
       "    </tr>\n",
       "    <tr>\n",
       "      <td>1</td>\n",
       "      <td>http://www.google.com/base/feeds/snippets/1153...</td>\n",
       "      <td>superstart! fun with reading &amp; writing!</td>\n",
       "      <td>fun with reading &amp; writing! is designed to hel...</td>\n",
       "      <td>NaN</td>\n",
       "      <td>8.49</td>\n",
       "    </tr>\n",
       "    <tr>\n",
       "      <td>2</td>\n",
       "      <td>http://www.google.com/base/feeds/snippets/1134...</td>\n",
       "      <td>qb pos 6.0 basic software</td>\n",
       "      <td>qb pos 6.0 basic retail mngmt software. for re...</td>\n",
       "      <td>intuit</td>\n",
       "      <td>637.99</td>\n",
       "    </tr>\n",
       "    <tr>\n",
       "      <td>3</td>\n",
       "      <td>http://www.google.com/base/feeds/snippets/1204...</td>\n",
       "      <td>math missions: the amazing arcade adventure (g...</td>\n",
       "      <td>save spectacle city by disrupting randall unde...</td>\n",
       "      <td>NaN</td>\n",
       "      <td>12.95</td>\n",
       "    </tr>\n",
       "    <tr>\n",
       "      <td>4</td>\n",
       "      <td>http://www.google.com/base/feeds/snippets/1224...</td>\n",
       "      <td>production prem cs3 mac upgrad</td>\n",
       "      <td>adobe cs3 production premium mac upgrade from ...</td>\n",
       "      <td>adobe software</td>\n",
       "      <td>805.99</td>\n",
       "    </tr>\n",
       "  </tbody>\n",
       "</table>\n",
       "</div>"
      ],
      "text/plain": [
       "                                                  id  \\\n",
       "0  http://www.google.com/base/feeds/snippets/1112...   \n",
       "1  http://www.google.com/base/feeds/snippets/1153...   \n",
       "2  http://www.google.com/base/feeds/snippets/1134...   \n",
       "3  http://www.google.com/base/feeds/snippets/1204...   \n",
       "4  http://www.google.com/base/feeds/snippets/1224...   \n",
       "\n",
       "                                                name  \\\n",
       "0                           learning quickbooks 2007   \n",
       "1            superstart! fun with reading & writing!   \n",
       "2                          qb pos 6.0 basic software   \n",
       "3  math missions: the amazing arcade adventure (g...   \n",
       "4                     production prem cs3 mac upgrad   \n",
       "\n",
       "                                         description    manufacturer   price  \n",
       "0                           learning quickbooks 2007          intuit   38.99  \n",
       "1  fun with reading & writing! is designed to hel...             NaN    8.49  \n",
       "2  qb pos 6.0 basic retail mngmt software. for re...          intuit  637.99  \n",
       "3  save spectacle city by disrupting randall unde...             NaN   12.95  \n",
       "4  adobe cs3 production premium mac upgrade from ...  adobe software  805.99  "
      ]
     },
     "metadata": {},
     "output_type": "display_data"
    }
   ],
   "source": [
    "display(amazon.head())\n",
    "display(google.head())"
   ]
  },
  {
   "cell_type": "code",
   "execution_count": 499,
   "metadata": {},
   "outputs": [],
   "source": [
    "google = google.rename(columns={'name':'title'})"
   ]
  },
  {
   "cell_type": "code",
   "execution_count": 500,
   "metadata": {},
   "outputs": [],
   "source": [
    "google.price = pd.to_numeric(google.price.apply(fixPrice))"
   ]
  },
  {
   "cell_type": "code",
   "execution_count": 501,
   "metadata": {},
   "outputs": [],
   "source": [
    "gE = graphEmbedder()"
   ]
  },
  {
   "cell_type": "code",
   "execution_count": 502,
   "metadata": {},
   "outputs": [
    {
     "data": {
      "text/plain": [
       "True"
      ]
     },
     "execution_count": 502,
     "metadata": {},
     "output_type": "execute_result"
    }
   ],
   "source": [
    "gE.defineKeys(amazon, 'id')\n",
    "gE.defineKeys(google, 'id')\n",
    "gE.defineTruth(matchings)"
   ]
  },
  {
   "cell_type": "code",
   "execution_count": 503,
   "metadata": {},
   "outputs": [
    {
     "data": {
      "text/plain": [
       "True"
      ]
     },
     "execution_count": 503,
     "metadata": {},
     "output_type": "execute_result"
    }
   ],
   "source": [
    "gE.embeddText([amazon,google], 'id','title','title', min_df=0.01)\n",
    "gE.embeddText([amazon,google], 'id','description','description', min_df=0)"
   ]
  },
  {
   "cell_type": "code",
   "execution_count": 504,
   "metadata": {},
   "outputs": [
    {
     "data": {
      "text/plain": [
       "True"
      ]
     },
     "execution_count": 504,
     "metadata": {},
     "output_type": "execute_result"
    }
   ],
   "source": [
    "gE.embeddCategorical([amazon,google], 'id','manufacturer','manufacturer')"
   ]
  },
  {
   "cell_type": "code",
   "execution_count": 505,
   "metadata": {},
   "outputs": [
    {
     "data": {
      "text/plain": [
       "True"
      ]
     },
     "execution_count": 505,
     "metadata": {},
     "output_type": "execute_result"
    }
   ],
   "source": [
    "gE.embeddOrdinal([amazon,google], 'id','price','price')"
   ]
  },
  {
   "cell_type": "code",
   "execution_count": 506,
   "metadata": {},
   "outputs": [],
   "source": [
    "gE.saveGraph()"
   ]
  },
  {
   "cell_type": "code",
   "execution_count": null,
   "metadata": {},
   "outputs": [],
   "source": []
  }
 ],
 "metadata": {
  "kernelspec": {
   "display_name": "Python 3",
   "language": "python",
   "name": "python3"
  },
  "language_info": {
   "codemirror_mode": {
    "name": "ipython",
    "version": 3
   },
   "file_extension": ".py",
   "mimetype": "text/x-python",
   "name": "python",
   "nbconvert_exporter": "python",
   "pygments_lexer": "ipython3",
   "version": "3.7.4"
  }
 },
 "nbformat": 4,
 "nbformat_minor": 2
}
